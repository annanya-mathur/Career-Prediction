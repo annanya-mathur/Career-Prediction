{
 "cells": [
  {
   "cell_type": "code",
   "execution_count": 1,
   "id": "29a01378",
   "metadata": {},
   "outputs": [
    {
     "name": "stdout",
     "output_type": "stream",
     "text": [
      "Requirement already satisfied: pandas in c:\\users\\dell\\anaconda3\\envs\\tensorflow_env\\lib\\site-packages (1.2.4)\n",
      "Requirement already satisfied: pytz>=2017.3 in c:\\users\\dell\\anaconda3\\envs\\tensorflow_env\\lib\\site-packages (from pandas) (2021.1)\n",
      "Requirement already satisfied: numpy>=1.16.5 in c:\\users\\dell\\anaconda3\\envs\\tensorflow_env\\lib\\site-packages (from pandas) (1.18.5)\n",
      "Requirement already satisfied: python-dateutil>=2.7.3 in c:\\users\\dell\\anaconda3\\envs\\tensorflow_env\\lib\\site-packages (from pandas) (2.8.1)\n",
      "Requirement already satisfied: six>=1.5 in c:\\users\\dell\\anaconda3\\envs\\tensorflow_env\\lib\\site-packages (from python-dateutil>=2.7.3->pandas) (1.15.0)\n",
      "Requirement already satisfied: sklearn in c:\\users\\dell\\anaconda3\\envs\\tensorflow_env\\lib\\site-packages (0.0)\n",
      "Requirement already satisfied: scikit-learn in c:\\users\\dell\\anaconda3\\envs\\tensorflow_env\\lib\\site-packages (from sklearn) (0.24.2)\n",
      "Requirement already satisfied: threadpoolctl>=2.0.0 in c:\\users\\dell\\anaconda3\\envs\\tensorflow_env\\lib\\site-packages (from scikit-learn->sklearn) (2.1.0)\n",
      "Requirement already satisfied: scipy>=0.19.1 in c:\\users\\dell\\appdata\\roaming\\python\\python38\\site-packages (from scikit-learn->sklearn) (1.4.1)\n",
      "Requirement already satisfied: joblib>=0.11 in c:\\users\\dell\\anaconda3\\envs\\tensorflow_env\\lib\\site-packages (from scikit-learn->sklearn) (1.0.1)\n",
      "Requirement already satisfied: numpy>=1.13.3 in c:\\users\\dell\\anaconda3\\envs\\tensorflow_env\\lib\\site-packages (from scikit-learn->sklearn) (1.18.5)\n",
      "Requirement already satisfied: xlrd in c:\\users\\dell\\anaconda3\\envs\\tensorflow_env\\lib\\site-packages (2.0.1)\n"
     ]
    }
   ],
   "source": [
    "!pip install pandas\n",
    "!pip install sklearn\n",
    "!pip install xlrd\n",
    "from sklearn.model_selection import train_test_split\n",
    "from sklearn.linear_model import LinearRegression\n",
    "import numpy as np\n",
    "import pandas as pd\n",
    "from sklearn.ensemble import RandomForestRegressor"
   ]
  },
  {
   "cell_type": "code",
   "execution_count": 2,
   "id": "b99a342a",
   "metadata": {},
   "outputs": [
    {
     "data": {
      "text/html": [
       "<div>\n",
       "<style scoped>\n",
       "    .dataframe tbody tr th:only-of-type {\n",
       "        vertical-align: middle;\n",
       "    }\n",
       "\n",
       "    .dataframe tbody tr th {\n",
       "        vertical-align: top;\n",
       "    }\n",
       "\n",
       "    .dataframe thead th {\n",
       "        text-align: right;\n",
       "    }\n",
       "</style>\n",
       "<table border=\"1\" class=\"dataframe\">\n",
       "  <thead>\n",
       "    <tr style=\"text-align: right;\">\n",
       "      <th></th>\n",
       "      <th>gender</th>\n",
       "      <th>race/ethnicity</th>\n",
       "      <th>parental level of education</th>\n",
       "      <th>lunch</th>\n",
       "      <th>test preparation course</th>\n",
       "      <th>math score</th>\n",
       "      <th>aptitude score</th>\n",
       "      <th>writing score</th>\n",
       "      <th>Total</th>\n",
       "      <th>GradePoints</th>\n",
       "    </tr>\n",
       "  </thead>\n",
       "  <tbody>\n",
       "    <tr>\n",
       "      <th>0</th>\n",
       "      <td>male</td>\n",
       "      <td>group E</td>\n",
       "      <td>some college</td>\n",
       "      <td>standard</td>\n",
       "      <td>0</td>\n",
       "      <td>100</td>\n",
       "      <td>91</td>\n",
       "      <td>84</td>\n",
       "      <td>275</td>\n",
       "      <td>0.9</td>\n",
       "    </tr>\n",
       "    <tr>\n",
       "      <th>1</th>\n",
       "      <td>male</td>\n",
       "      <td>group C</td>\n",
       "      <td>some college</td>\n",
       "      <td>free/reduced</td>\n",
       "      <td>10</td>\n",
       "      <td>38</td>\n",
       "      <td>31</td>\n",
       "      <td>36</td>\n",
       "      <td>105</td>\n",
       "      <td>0.4</td>\n",
       "    </tr>\n",
       "    <tr>\n",
       "      <th>2</th>\n",
       "      <td>male</td>\n",
       "      <td>group E</td>\n",
       "      <td>high school</td>\n",
       "      <td>standard</td>\n",
       "      <td>10</td>\n",
       "      <td>83</td>\n",
       "      <td>74</td>\n",
       "      <td>73</td>\n",
       "      <td>230</td>\n",
       "      <td>0.8</td>\n",
       "    </tr>\n",
       "    <tr>\n",
       "      <th>3</th>\n",
       "      <td>female</td>\n",
       "      <td>group B</td>\n",
       "      <td>some college</td>\n",
       "      <td>standard</td>\n",
       "      <td>0</td>\n",
       "      <td>73</td>\n",
       "      <td>79</td>\n",
       "      <td>79</td>\n",
       "      <td>231</td>\n",
       "      <td>0.8</td>\n",
       "    </tr>\n",
       "    <tr>\n",
       "      <th>4</th>\n",
       "      <td>female</td>\n",
       "      <td>group A</td>\n",
       "      <td>some high school</td>\n",
       "      <td>free/reduced</td>\n",
       "      <td>10</td>\n",
       "      <td>74</td>\n",
       "      <td>80</td>\n",
       "      <td>81</td>\n",
       "      <td>235</td>\n",
       "      <td>0.8</td>\n",
       "    </tr>\n",
       "  </tbody>\n",
       "</table>\n",
       "</div>"
      ],
      "text/plain": [
       "   gender race/ethnicity parental level of education         lunch  \\\n",
       "0    male        group E                some college      standard   \n",
       "1    male        group C                some college  free/reduced   \n",
       "2    male        group E                 high school      standard   \n",
       "3  female        group B                some college      standard   \n",
       "4  female        group A            some high school  free/reduced   \n",
       "\n",
       "   test preparation course  math score  aptitude score  writing score  Total  \\\n",
       "0                        0         100              91             84    275   \n",
       "1                       10          38              31             36    105   \n",
       "2                       10          83              74             73    230   \n",
       "3                        0          73              79             79    231   \n",
       "4                       10          74              80             81    235   \n",
       "\n",
       "   GradePoints  \n",
       "0          0.9  \n",
       "1          0.4  \n",
       "2          0.8  \n",
       "3          0.8  \n",
       "4          0.8  "
      ]
     },
     "execution_count": 2,
     "metadata": {},
     "output_type": "execute_result"
    }
   ],
   "source": [
    "df=pd.read_csv('exams (2).csv')\n",
    "df.head(5)"
   ]
  },
  {
   "cell_type": "code",
   "execution_count": 3,
   "id": "24a9ca09",
   "metadata": {},
   "outputs": [
    {
     "data": {
      "text/html": [
       "<div>\n",
       "<style scoped>\n",
       "    .dataframe tbody tr th:only-of-type {\n",
       "        vertical-align: middle;\n",
       "    }\n",
       "\n",
       "    .dataframe tbody tr th {\n",
       "        vertical-align: top;\n",
       "    }\n",
       "\n",
       "    .dataframe thead th {\n",
       "        text-align: right;\n",
       "    }\n",
       "</style>\n",
       "<table border=\"1\" class=\"dataframe\">\n",
       "  <thead>\n",
       "    <tr style=\"text-align: right;\">\n",
       "      <th></th>\n",
       "      <th>90% - 100%</th>\n",
       "      <th>70% - 90%</th>\n",
       "      <th>50% - 70%</th>\n",
       "      <th>40% - 50%</th>\n",
       "      <th>10% - 40%</th>\n",
       "      <th>Unnamed: 5</th>\n",
       "    </tr>\n",
       "  </thead>\n",
       "  <tbody>\n",
       "    <tr>\n",
       "      <th>0</th>\n",
       "      <td>Medical</td>\n",
       "      <td>Teaching Assistant</td>\n",
       "      <td>Sales</td>\n",
       "      <td>Hotel Management</td>\n",
       "      <td>Ayurveda</td>\n",
       "      <td>NaN</td>\n",
       "    </tr>\n",
       "    <tr>\n",
       "      <th>1</th>\n",
       "      <td>Engineering</td>\n",
       "      <td>Sound Engineering</td>\n",
       "      <td>Center head for sports</td>\n",
       "      <td>Milk Processing Operator</td>\n",
       "      <td>Mountaineer</td>\n",
       "      <td>NaN</td>\n",
       "    </tr>\n",
       "    <tr>\n",
       "      <th>2</th>\n",
       "      <td>Management</td>\n",
       "      <td>HR</td>\n",
       "      <td>Designer</td>\n",
       "      <td>Plant Engineering</td>\n",
       "      <td>Wrestler</td>\n",
       "      <td>NaN</td>\n",
       "    </tr>\n",
       "    <tr>\n",
       "      <th>3</th>\n",
       "      <td>Chartered Accountancy</td>\n",
       "      <td>Sports Officer</td>\n",
       "      <td>Marketing</td>\n",
       "      <td>Nutritionist</td>\n",
       "      <td>Archer</td>\n",
       "      <td>NaN</td>\n",
       "    </tr>\n",
       "    <tr>\n",
       "      <th>4</th>\n",
       "      <td>Data Scientist</td>\n",
       "      <td>Content Writer</td>\n",
       "      <td>Pathology</td>\n",
       "      <td>Physical Education</td>\n",
       "      <td>Coach</td>\n",
       "      <td>NaN</td>\n",
       "    </tr>\n",
       "    <tr>\n",
       "      <th>5</th>\n",
       "      <td>Mobile Application Developer</td>\n",
       "      <td>Lab Assistant</td>\n",
       "      <td>Anchoring</td>\n",
       "      <td>Psychiatrist</td>\n",
       "      <td>Chef</td>\n",
       "      <td>NaN</td>\n",
       "    </tr>\n",
       "    <tr>\n",
       "      <th>6</th>\n",
       "      <td>Finance</td>\n",
       "      <td>Campus Ambassador</td>\n",
       "      <td>Copy Writing</td>\n",
       "      <td>Receptionist</td>\n",
       "      <td>Caterer</td>\n",
       "      <td>NaN</td>\n",
       "    </tr>\n",
       "    <tr>\n",
       "      <th>7</th>\n",
       "      <td>Executive Director</td>\n",
       "      <td>3-D Modelling</td>\n",
       "      <td>Journalism</td>\n",
       "      <td>Voiceover</td>\n",
       "      <td>Event Manager</td>\n",
       "      <td>NaN</td>\n",
       "    </tr>\n",
       "    <tr>\n",
       "      <th>8</th>\n",
       "      <td>Researcher</td>\n",
       "      <td>Web Development</td>\n",
       "      <td>Content Production</td>\n",
       "      <td>Podcast Production</td>\n",
       "      <td>Trainer</td>\n",
       "      <td>NaN</td>\n",
       "    </tr>\n",
       "    <tr>\n",
       "      <th>9</th>\n",
       "      <td>AI / ML Specialist</td>\n",
       "      <td>Finance</td>\n",
       "      <td>Blockchain Development</td>\n",
       "      <td>Singing</td>\n",
       "      <td>Environmentalist</td>\n",
       "      <td>NaN</td>\n",
       "    </tr>\n",
       "    <tr>\n",
       "      <th>10</th>\n",
       "      <td>Pharmacy</td>\n",
       "      <td>Big Data Analyst</td>\n",
       "      <td>Game Development</td>\n",
       "      <td>Acting</td>\n",
       "      <td>Interior designing</td>\n",
       "      <td>NaN</td>\n",
       "    </tr>\n",
       "    <tr>\n",
       "      <th>11</th>\n",
       "      <td>Mathematician</td>\n",
       "      <td>Brand Analyst</td>\n",
       "      <td>Cryptography</td>\n",
       "      <td>Dietician</td>\n",
       "      <td>Farmer</td>\n",
       "      <td>NaN</td>\n",
       "    </tr>\n",
       "    <tr>\n",
       "      <th>12</th>\n",
       "      <td>Bioinformatics</td>\n",
       "      <td>Editor</td>\n",
       "      <td>Mining</td>\n",
       "      <td>Culinary Arts</td>\n",
       "      <td>Youtuber</td>\n",
       "      <td>NaN</td>\n",
       "    </tr>\n",
       "    <tr>\n",
       "      <th>13</th>\n",
       "      <td>Professor</td>\n",
       "      <td>Digital Sculptor</td>\n",
       "      <td>Humanities</td>\n",
       "      <td>Choreography</td>\n",
       "      <td>Social Media Influencer</td>\n",
       "      <td>NaN</td>\n",
       "    </tr>\n",
       "    <tr>\n",
       "      <th>14</th>\n",
       "      <td>Lawyer</td>\n",
       "      <td>Associate</td>\n",
       "      <td>Program Manager</td>\n",
       "      <td>Enterpreneur</td>\n",
       "      <td>Food Processing Superviser</td>\n",
       "      <td>NaN</td>\n",
       "    </tr>\n",
       "  </tbody>\n",
       "</table>\n",
       "</div>"
      ],
      "text/plain": [
       "                      90% - 100%           70% - 90%               50% - 70%  \\\n",
       "0                        Medical  Teaching Assistant                  Sales    \n",
       "1                    Engineering   Sound Engineering  Center head for sports   \n",
       "2                     Management                 HR                 Designer   \n",
       "3          Chartered Accountancy      Sports Officer               Marketing   \n",
       "4                 Data Scientist      Content Writer               Pathology   \n",
       "5   Mobile Application Developer       Lab Assistant               Anchoring   \n",
       "6                        Finance   Campus Ambassador            Copy Writing   \n",
       "7             Executive Director       3-D Modelling              Journalism   \n",
       "8                     Researcher     Web Development      Content Production   \n",
       "9             AI / ML Specialist             Finance  Blockchain Development   \n",
       "10                      Pharmacy    Big Data Analyst        Game Development   \n",
       "11                 Mathematician       Brand Analyst            Cryptography   \n",
       "12                Bioinformatics              Editor                  Mining   \n",
       "13                     Professor    Digital Sculptor              Humanities   \n",
       "14                        Lawyer           Associate         Program Manager   \n",
       "\n",
       "                   40% - 50%                   10% - 40%  Unnamed: 5  \n",
       "0           Hotel Management                    Ayurveda         NaN  \n",
       "1   Milk Processing Operator                 Mountaineer         NaN  \n",
       "2          Plant Engineering                    Wrestler         NaN  \n",
       "3               Nutritionist                      Archer         NaN  \n",
       "4         Physical Education                       Coach         NaN  \n",
       "5               Psychiatrist                        Chef         NaN  \n",
       "6               Receptionist                     Caterer         NaN  \n",
       "7                  Voiceover               Event Manager         NaN  \n",
       "8         Podcast Production                     Trainer         NaN  \n",
       "9                    Singing            Environmentalist         NaN  \n",
       "10                    Acting          Interior designing         NaN  \n",
       "11                 Dietician                      Farmer         NaN  \n",
       "12             Culinary Arts                    Youtuber         NaN  \n",
       "13              Choreography     Social Media Influencer         NaN  \n",
       "14              Enterpreneur  Food Processing Superviser         NaN  "
      ]
     },
     "execution_count": 3,
     "metadata": {},
     "output_type": "execute_result"
    }
   ],
   "source": [
    "career=pd.read_csv('Career_Choices.csv')\n",
    "career.head(15)"
   ]
  },
  {
   "cell_type": "code",
   "execution_count": 4,
   "id": "7e48fc87",
   "metadata": {},
   "outputs": [
    {
     "data": {
      "text/plain": [
       "(1000, 10)"
      ]
     },
     "execution_count": 4,
     "metadata": {},
     "output_type": "execute_result"
    }
   ],
   "source": [
    "df.shape"
   ]
  },
  {
   "cell_type": "code",
   "execution_count": 5,
   "id": "d07ba137",
   "metadata": {},
   "outputs": [
    {
     "data": {
      "text/plain": [
       "(15, 6)"
      ]
     },
     "execution_count": 5,
     "metadata": {},
     "output_type": "execute_result"
    }
   ],
   "source": [
    "career.shape"
   ]
  },
  {
   "cell_type": "code",
   "execution_count": 6,
   "id": "81cce7ea",
   "metadata": {},
   "outputs": [],
   "source": [
    "X=df[['aptitude score','test preparation course']]"
   ]
  },
  {
   "cell_type": "code",
   "execution_count": 7,
   "id": "bb36c0f7",
   "metadata": {},
   "outputs": [],
   "source": [
    "Y = df[['GradePoints']]"
   ]
  },
  {
   "cell_type": "code",
   "execution_count": 8,
   "id": "d424e4ff",
   "metadata": {},
   "outputs": [],
   "source": [
    "X_train,X_test,Y_train,Y_test =train_test_split(X,Y,test_size=0.3)"
   ]
  },
  {
   "cell_type": "code",
   "execution_count": 9,
   "id": "9e0b4907",
   "metadata": {},
   "outputs": [
    {
     "data": {
      "text/html": [
       "<div>\n",
       "<style scoped>\n",
       "    .dataframe tbody tr th:only-of-type {\n",
       "        vertical-align: middle;\n",
       "    }\n",
       "\n",
       "    .dataframe tbody tr th {\n",
       "        vertical-align: top;\n",
       "    }\n",
       "\n",
       "    .dataframe thead th {\n",
       "        text-align: right;\n",
       "    }\n",
       "</style>\n",
       "<table border=\"1\" class=\"dataframe\">\n",
       "  <thead>\n",
       "    <tr style=\"text-align: right;\">\n",
       "      <th></th>\n",
       "      <th>aptitude score</th>\n",
       "      <th>test preparation course</th>\n",
       "    </tr>\n",
       "  </thead>\n",
       "  <tbody>\n",
       "    <tr>\n",
       "      <th>163</th>\n",
       "      <td>94</td>\n",
       "      <td>10</td>\n",
       "    </tr>\n",
       "    <tr>\n",
       "      <th>567</th>\n",
       "      <td>79</td>\n",
       "      <td>10</td>\n",
       "    </tr>\n",
       "    <tr>\n",
       "      <th>866</th>\n",
       "      <td>94</td>\n",
       "      <td>10</td>\n",
       "    </tr>\n",
       "    <tr>\n",
       "      <th>593</th>\n",
       "      <td>100</td>\n",
       "      <td>10</td>\n",
       "    </tr>\n",
       "    <tr>\n",
       "      <th>847</th>\n",
       "      <td>67</td>\n",
       "      <td>0</td>\n",
       "    </tr>\n",
       "    <tr>\n",
       "      <th>...</th>\n",
       "      <td>...</td>\n",
       "      <td>...</td>\n",
       "    </tr>\n",
       "    <tr>\n",
       "      <th>208</th>\n",
       "      <td>86</td>\n",
       "      <td>0</td>\n",
       "    </tr>\n",
       "    <tr>\n",
       "      <th>321</th>\n",
       "      <td>71</td>\n",
       "      <td>0</td>\n",
       "    </tr>\n",
       "    <tr>\n",
       "      <th>554</th>\n",
       "      <td>85</td>\n",
       "      <td>10</td>\n",
       "    </tr>\n",
       "    <tr>\n",
       "      <th>605</th>\n",
       "      <td>79</td>\n",
       "      <td>10</td>\n",
       "    </tr>\n",
       "    <tr>\n",
       "      <th>86</th>\n",
       "      <td>59</td>\n",
       "      <td>0</td>\n",
       "    </tr>\n",
       "  </tbody>\n",
       "</table>\n",
       "<p>700 rows × 2 columns</p>\n",
       "</div>"
      ],
      "text/plain": [
       "     aptitude score  test preparation course\n",
       "163              94                       10\n",
       "567              79                       10\n",
       "866              94                       10\n",
       "593             100                       10\n",
       "847              67                        0\n",
       "..              ...                      ...\n",
       "208              86                        0\n",
       "321              71                        0\n",
       "554              85                       10\n",
       "605              79                       10\n",
       "86               59                        0\n",
       "\n",
       "[700 rows x 2 columns]"
      ]
     },
     "execution_count": 9,
     "metadata": {},
     "output_type": "execute_result"
    }
   ],
   "source": [
    "X_train"
   ]
  },
  {
   "cell_type": "code",
   "execution_count": 10,
   "id": "0f1eda66",
   "metadata": {},
   "outputs": [
    {
     "data": {
      "text/html": [
       "<div>\n",
       "<style scoped>\n",
       "    .dataframe tbody tr th:only-of-type {\n",
       "        vertical-align: middle;\n",
       "    }\n",
       "\n",
       "    .dataframe tbody tr th {\n",
       "        vertical-align: top;\n",
       "    }\n",
       "\n",
       "    .dataframe thead th {\n",
       "        text-align: right;\n",
       "    }\n",
       "</style>\n",
       "<table border=\"1\" class=\"dataframe\">\n",
       "  <thead>\n",
       "    <tr style=\"text-align: right;\">\n",
       "      <th></th>\n",
       "      <th>GradePoints</th>\n",
       "    </tr>\n",
       "  </thead>\n",
       "  <tbody>\n",
       "    <tr>\n",
       "      <th>74</th>\n",
       "      <td>0.8</td>\n",
       "    </tr>\n",
       "    <tr>\n",
       "      <th>139</th>\n",
       "      <td>0.5</td>\n",
       "    </tr>\n",
       "    <tr>\n",
       "      <th>750</th>\n",
       "      <td>0.8</td>\n",
       "    </tr>\n",
       "    <tr>\n",
       "      <th>742</th>\n",
       "      <td>0.6</td>\n",
       "    </tr>\n",
       "    <tr>\n",
       "      <th>516</th>\n",
       "      <td>0.9</td>\n",
       "    </tr>\n",
       "    <tr>\n",
       "      <th>...</th>\n",
       "      <td>...</td>\n",
       "    </tr>\n",
       "    <tr>\n",
       "      <th>722</th>\n",
       "      <td>0.5</td>\n",
       "    </tr>\n",
       "    <tr>\n",
       "      <th>500</th>\n",
       "      <td>0.7</td>\n",
       "    </tr>\n",
       "    <tr>\n",
       "      <th>577</th>\n",
       "      <td>0.7</td>\n",
       "    </tr>\n",
       "    <tr>\n",
       "      <th>285</th>\n",
       "      <td>0.4</td>\n",
       "    </tr>\n",
       "    <tr>\n",
       "      <th>953</th>\n",
       "      <td>0.6</td>\n",
       "    </tr>\n",
       "  </tbody>\n",
       "</table>\n",
       "<p>300 rows × 1 columns</p>\n",
       "</div>"
      ],
      "text/plain": [
       "     GradePoints\n",
       "74           0.8\n",
       "139          0.5\n",
       "750          0.8\n",
       "742          0.6\n",
       "516          0.9\n",
       "..           ...\n",
       "722          0.5\n",
       "500          0.7\n",
       "577          0.7\n",
       "285          0.4\n",
       "953          0.6\n",
       "\n",
       "[300 rows x 1 columns]"
      ]
     },
     "execution_count": 10,
     "metadata": {},
     "output_type": "execute_result"
    }
   ],
   "source": [
    "Y_test"
   ]
  },
  {
   "cell_type": "code",
   "execution_count": 11,
   "id": "08375969",
   "metadata": {},
   "outputs": [],
   "source": [
    "rf=rf=RandomForestRegressor()"
   ]
  },
  {
   "cell_type": "code",
   "execution_count": 12,
   "id": "fd47acd1",
   "metadata": {},
   "outputs": [
    {
     "name": "stdout",
     "output_type": "stream",
     "text": [
      "<class 'pandas.core.frame.DataFrame'>\n",
      "Int64Index: 700 entries, 163 to 86\n",
      "Data columns (total 2 columns):\n",
      " #   Column                   Non-Null Count  Dtype\n",
      "---  ------                   --------------  -----\n",
      " 0   aptitude score           700 non-null    int64\n",
      " 1   test preparation course  700 non-null    int64\n",
      "dtypes: int64(2)\n",
      "memory usage: 16.4 KB\n"
     ]
    }
   ],
   "source": [
    "X_train.info()"
   ]
  },
  {
   "cell_type": "code",
   "execution_count": 13,
   "id": "5bcb24cc",
   "metadata": {},
   "outputs": [
    {
     "name": "stdout",
     "output_type": "stream",
     "text": [
      "<class 'pandas.core.frame.DataFrame'>\n",
      "Int64Index: 700 entries, 163 to 86\n",
      "Data columns (total 1 columns):\n",
      " #   Column       Non-Null Count  Dtype  \n",
      "---  ------       --------------  -----  \n",
      " 0   GradePoints  700 non-null    float64\n",
      "dtypes: float64(1)\n",
      "memory usage: 10.9 KB\n"
     ]
    }
   ],
   "source": [
    "Y_train.info()"
   ]
  },
  {
   "cell_type": "code",
   "execution_count": 14,
   "id": "5c8079bf",
   "metadata": {},
   "outputs": [
    {
     "data": {
      "text/plain": [
       "LinearRegression()"
      ]
     },
     "execution_count": 14,
     "metadata": {},
     "output_type": "execute_result"
    }
   ],
   "source": [
    "rf.fit(np.array(X_train).reshape(-1,2),np.array(Y_train).reshape(-1,1))"
   ]
  },
  {
   "cell_type": "code",
   "execution_count": 15,
   "id": "f10b9e24",
   "metadata": {},
   "outputs": [
    {
     "name": "stdout",
     "output_type": "stream",
     "text": [
      "Enter Aptitude score of student 78\n",
      "Say whether student completed test preparation : 1 for Yes & 0 for No 0\n"
     ]
    }
   ],
   "source": [
    "a=int(input(\"Enter Aptitude score of student \"))\n",
    "b=int(input(\"Say whether student completed test preparation : 1 for Yes & 0 for No \"))\n",
    "r=np.array(rf.predict(np.array([[a,b]])))"
   ]
  },
  {
   "cell_type": "code",
   "execution_count": 16,
   "id": "3d050437",
   "metadata": {},
   "outputs": [
    {
     "name": "stdout",
     "output_type": "stream",
     "text": [
      "[[0.76721495]]\n"
     ]
    }
   ],
   "source": [
    "print (r)"
   ]
  },
  {
   "cell_type": "code",
   "execution_count": 17,
   "id": "bb143c9f",
   "metadata": {},
   "outputs": [],
   "source": [
    "\n",
    "if r>=0.9 and r<=1.0 :\n",
    "    choices = career[['90% - 100%','70% - 90%','50% - 70%','40% - 50%','10% - 40%']]\n",
    "elif r >=0.7 and r<=0.9:\n",
    "    choices = career[['70% - 90%','50% - 70%','40% - 50%','10% - 40%']]\n",
    "elif r>= 0.5 and r<=0.7:\n",
    "    choices = career[['50% - 70%','40% - 50%','10% - 40%']]\n",
    "elif r>=0.4 and r<=0.5:\n",
    "    choices = career[['40% - 50%','10% - 40%']]\n",
    "else :\n",
    "    choices =career[['10% - 40%']]\n",
    "final=choices.values.tolist()  \n",
    "  "
   ]
  },
  {
   "cell_type": "code",
   "execution_count": 18,
   "id": "563febe7",
   "metadata": {},
   "outputs": [
    {
     "data": {
      "text/plain": [
       "pandas.core.frame.DataFrame"
      ]
     },
     "execution_count": 18,
     "metadata": {},
     "output_type": "execute_result"
    }
   ],
   "source": [
    "type(choices)"
   ]
  },
  {
   "cell_type": "code",
   "execution_count": 19,
   "id": "6a8abbd6",
   "metadata": {},
   "outputs": [
    {
     "data": {
      "text/plain": [
       "15"
      ]
     },
     "execution_count": 19,
     "metadata": {},
     "output_type": "execute_result"
    }
   ],
   "source": [
    "n=len(final)\n",
    "n"
   ]
  },
  {
   "cell_type": "code",
   "execution_count": 20,
   "id": "eb5bcc41",
   "metadata": {},
   "outputs": [
    {
     "name": "stdout",
     "output_type": "stream",
     "text": [
      "Teaching Assistant\n",
      "Sales \n",
      "Hotel Management\n",
      "Ayurveda\n",
      "Sound Engineering\n",
      "Center head for sports\n",
      "Milk Processing Operator\n",
      "Mountaineer\n",
      "HR \n",
      "Designer\n",
      "Plant Engineering\n",
      "Wrestler\n",
      "Sports Officer\n",
      "Marketing\n",
      "Nutritionist\n",
      "Archer\n",
      "Content Writer\n",
      "Pathology\n",
      "Physical Education\n",
      "Coach\n",
      "Lab Assistant\n",
      "Anchoring\n",
      "Psychiatrist\n",
      "Chef\n",
      "Campus Ambassador\n",
      "Copy Writing\n",
      "Receptionist\n",
      "Caterer\n",
      "3-D Modelling\n",
      "Journalism\n",
      "Voiceover\n",
      "Event Manager\n",
      "Web Development\n",
      "Content Production\n",
      "Podcast Production\n",
      "Trainer\n",
      "Finance\n",
      "Blockchain Development\n",
      "Singing\n",
      "Environmentalist\n",
      "Big Data Analyst\n",
      "Game Development\n",
      "Acting\n",
      "Interior designing\n",
      "Brand Analyst\n",
      "Cryptography\n",
      "Dietician\n",
      "Farmer\n",
      "Editor\n",
      "Mining\n",
      "Culinary Arts\n",
      "Youtuber\n",
      "Digital Sculptor\n",
      "Humanities\n",
      "Choreography\n",
      "Social Media Influencer\n",
      "Associate\n",
      "Program Manager\n",
      "Enterpreneur\n",
      "Food Processing Superviser\n"
     ]
    }
   ],
   "source": [
    "for i in final:\n",
    "    for h in i:\n",
    "        print(h)\n",
    "        \n",
    "    "
   ]
  },
  {
   "cell_type": "code",
   "execution_count": 22,
   "id": "7bdefe69",
   "metadata": {},
   "outputs": [
    {
     "name": "stdout",
     "output_type": "stream",
     "text": [
      "0.8895915231210227\n"
     ]
    }
   ],
   "source": [
    "import pickle\n",
    "with open(\"career2.pkl\",\"wb\") as f:\n",
    "    pickle.dump(rf,f)\n",
    "loader_model=pickle.load(open(\"career2.pkl\",\"rb\"))\n",
    "result=loader_model.score(X_test,Y_test)\n",
    "print(result)"
   ]
  },
  {
   "cell_type": "code",
   "execution_count": 23,
   "id": "9f6e9606",
   "metadata": {},
   "outputs": [],
   "source": [
    "h=pd.read_pickle('career2.pkl')"
   ]
  },
  {
   "cell_type": "code",
   "execution_count": 24,
   "id": "df7427fa",
   "metadata": {},
   "outputs": [
    {
     "data": {
      "text/plain": [
       "LinearRegression()"
      ]
     },
     "execution_count": 24,
     "metadata": {},
     "output_type": "execute_result"
    }
   ],
   "source": [
    "h"
   ]
  },
  {
   "cell_type": "code",
   "execution_count": null,
   "id": "04ff2580",
   "metadata": {},
   "outputs": [],
   "source": []
  }
 ],
 "metadata": {
  "kernelspec": {
   "display_name": "Python 3",
   "language": "python",
   "name": "python3"
  },
  "language_info": {
   "codemirror_mode": {
    "name": "ipython",
    "version": 3
   },
   "file_extension": ".py",
   "mimetype": "text/x-python",
   "name": "python",
   "nbconvert_exporter": "python",
   "pygments_lexer": "ipython3",
   "version": "3.8.8"
  }
 },
 "nbformat": 4,
 "nbformat_minor": 5
}
