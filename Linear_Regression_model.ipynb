{
  "nbformat": 4,
  "nbformat_minor": 0,
  "metadata": {
    "colab": {
      "name": "Linear_Regression_model.ipynb",
      "provenance": [],
      "collapsed_sections": [],
      "authorship_tag": "ABX9TyNmD+f7DBNBI7c15YSR/ZXZ",
      "include_colab_link": true
    },
    "kernelspec": {
      "name": "python3",
      "display_name": "Python 3"
    },
    "language_info": {
      "name": "python"
    }
  },
  "cells": [
    {
      "cell_type": "markdown",
      "metadata": {
        "id": "view-in-github",
        "colab_type": "text"
      },
      "source": [
        "<a href=\"https://colab.research.google.com/github/annanya-mathur/Career-Prediction/blob/main/Linear_Regression_model.ipynb\" target=\"_parent\"><img src=\"https://colab.research.google.com/assets/colab-badge.svg\" alt=\"Open In Colab\"/></a>"
      ]
    },
    {
      "cell_type": "markdown",
      "metadata": {
        "id": "6s5oPcpWczRe"
      },
      "source": [
        "# **Linear Regression Model**"
      ]
    },
    {
      "cell_type": "markdown",
      "metadata": {
        "id": "hUlyt5DxdEdH"
      },
      "source": [
        "**EQUATION: y=mx+c** \n",
        "> **where y is dependent variable** \n",
        "> **x is dependent variable**"
      ]
    },
    {
      "cell_type": "code",
      "metadata": {
        "id": "bZ4bhckVcekE"
      },
      "source": [
        "import numpy as np\n",
        "import pandas as pd\n",
        "from sklearn.preprocessing import StandardScaler\n",
        "from sklearn.model_selection import train_test_split\n",
        "from sklearn.linear_model import LinearRegression\n",
        "from sklearn.metrics import r2_score "
      ],
      "execution_count": 24,
      "outputs": []
    },
    {
      "cell_type": "code",
      "metadata": {
        "id": "nkEdMkhmdiGt"
      },
      "source": [
        "df=pd.read_csv('/content/exams (2).csv')"
      ],
      "execution_count": 2,
      "outputs": []
    },
    {
      "cell_type": "code",
      "metadata": {
        "colab": {
          "base_uri": "https://localhost:8080/",
          "height": 212
        },
        "id": "om0TyWFndqlO",
        "outputId": "fb8bdb3e-a20b-489d-856b-09ae2b87047d"
      },
      "source": [
        "df.head(5)"
      ],
      "execution_count": 3,
      "outputs": [
        {
          "output_type": "execute_result",
          "data": {
            "text/html": [
              "<div>\n",
              "<style scoped>\n",
              "    .dataframe tbody tr th:only-of-type {\n",
              "        vertical-align: middle;\n",
              "    }\n",
              "\n",
              "    .dataframe tbody tr th {\n",
              "        vertical-align: top;\n",
              "    }\n",
              "\n",
              "    .dataframe thead th {\n",
              "        text-align: right;\n",
              "    }\n",
              "</style>\n",
              "<table border=\"1\" class=\"dataframe\">\n",
              "  <thead>\n",
              "    <tr style=\"text-align: right;\">\n",
              "      <th></th>\n",
              "      <th>gender</th>\n",
              "      <th>race/ethnicity</th>\n",
              "      <th>parental level of education</th>\n",
              "      <th>lunch</th>\n",
              "      <th>test preparation course</th>\n",
              "      <th>math score</th>\n",
              "      <th>aptitude score</th>\n",
              "      <th>writing score</th>\n",
              "      <th>Total</th>\n",
              "      <th>GradePoints</th>\n",
              "    </tr>\n",
              "  </thead>\n",
              "  <tbody>\n",
              "    <tr>\n",
              "      <th>0</th>\n",
              "      <td>male</td>\n",
              "      <td>group E</td>\n",
              "      <td>some college</td>\n",
              "      <td>standard</td>\n",
              "      <td>0</td>\n",
              "      <td>100</td>\n",
              "      <td>91</td>\n",
              "      <td>84</td>\n",
              "      <td>275</td>\n",
              "      <td>0.9</td>\n",
              "    </tr>\n",
              "    <tr>\n",
              "      <th>1</th>\n",
              "      <td>male</td>\n",
              "      <td>group C</td>\n",
              "      <td>some college</td>\n",
              "      <td>free/reduced</td>\n",
              "      <td>10</td>\n",
              "      <td>38</td>\n",
              "      <td>31</td>\n",
              "      <td>36</td>\n",
              "      <td>105</td>\n",
              "      <td>0.4</td>\n",
              "    </tr>\n",
              "    <tr>\n",
              "      <th>2</th>\n",
              "      <td>male</td>\n",
              "      <td>group E</td>\n",
              "      <td>high school</td>\n",
              "      <td>standard</td>\n",
              "      <td>10</td>\n",
              "      <td>83</td>\n",
              "      <td>74</td>\n",
              "      <td>73</td>\n",
              "      <td>230</td>\n",
              "      <td>0.8</td>\n",
              "    </tr>\n",
              "    <tr>\n",
              "      <th>3</th>\n",
              "      <td>female</td>\n",
              "      <td>group B</td>\n",
              "      <td>some college</td>\n",
              "      <td>standard</td>\n",
              "      <td>0</td>\n",
              "      <td>73</td>\n",
              "      <td>79</td>\n",
              "      <td>79</td>\n",
              "      <td>231</td>\n",
              "      <td>0.8</td>\n",
              "    </tr>\n",
              "    <tr>\n",
              "      <th>4</th>\n",
              "      <td>female</td>\n",
              "      <td>group A</td>\n",
              "      <td>some high school</td>\n",
              "      <td>free/reduced</td>\n",
              "      <td>10</td>\n",
              "      <td>74</td>\n",
              "      <td>80</td>\n",
              "      <td>81</td>\n",
              "      <td>235</td>\n",
              "      <td>0.8</td>\n",
              "    </tr>\n",
              "  </tbody>\n",
              "</table>\n",
              "</div>"
            ],
            "text/plain": [
              "   gender race/ethnicity  ... Total GradePoints\n",
              "0    male        group E  ...   275         0.9\n",
              "1    male        group C  ...   105         0.4\n",
              "2    male        group E  ...   230         0.8\n",
              "3  female        group B  ...   231         0.8\n",
              "4  female        group A  ...   235         0.8\n",
              "\n",
              "[5 rows x 10 columns]"
            ]
          },
          "metadata": {
            "tags": []
          },
          "execution_count": 3
        }
      ]
    },
    {
      "cell_type": "code",
      "metadata": {
        "id": "f-Yrlqjid7if"
      },
      "source": [
        "Independent=df[['aptitude score']]\n",
        "dependent=df[['GradePoints']]\n",
        "X_train ,X_test,Y_train,Y_test=train_test_split(Independent,dependent,test_size=0.3)\n"
      ],
      "execution_count": 14,
      "outputs": []
    },
    {
      "cell_type": "code",
      "metadata": {
        "colab": {
          "base_uri": "https://localhost:8080/"
        },
        "id": "px9PEALgeTVA",
        "outputId": "074db0ec-b60b-41b9-f2bb-444d332af995"
      },
      "source": [
        "print(X_train.shape)"
      ],
      "execution_count": 15,
      "outputs": [
        {
          "output_type": "stream",
          "text": [
            "(700, 1)\n"
          ],
          "name": "stdout"
        }
      ]
    },
    {
      "cell_type": "code",
      "metadata": {
        "colab": {
          "base_uri": "https://localhost:8080/"
        },
        "id": "oLvPbhqNecNb",
        "outputId": "db3d6b42-5d57-468f-b053-32aaf02bf107"
      },
      "source": [
        "X_train.info"
      ],
      "execution_count": 16,
      "outputs": [
        {
          "output_type": "execute_result",
          "data": {
            "text/plain": [
              "<bound method DataFrame.info of      aptitude score\n",
              "378              68\n",
              "715              90\n",
              "969              67\n",
              "321              71\n",
              "419              69\n",
              "..              ...\n",
              "451              60\n",
              "300              74\n",
              "190              60\n",
              "563              72\n",
              "450              53\n",
              "\n",
              "[700 rows x 1 columns]>"
            ]
          },
          "metadata": {
            "tags": []
          },
          "execution_count": 16
        }
      ]
    },
    {
      "cell_type": "code",
      "metadata": {
        "colab": {
          "base_uri": "https://localhost:8080/"
        },
        "id": "vff94rlEeogt",
        "outputId": "a921d5c8-3839-441d-8d4a-fcdda556c052"
      },
      "source": [
        "lr=LinearRegression()\n",
        "lr.fit(X_train,Y_train)"
      ],
      "execution_count": 17,
      "outputs": [
        {
          "output_type": "execute_result",
          "data": {
            "text/plain": [
              "LinearRegression(copy_X=True, fit_intercept=True, n_jobs=None, normalize=False)"
            ]
          },
          "metadata": {
            "tags": []
          },
          "execution_count": 17
        }
      ]
    },
    {
      "cell_type": "code",
      "metadata": {
        "colab": {
          "base_uri": "https://localhost:8080/"
        },
        "id": "C-E3pbFPe-vM",
        "outputId": "7d5dafa7-b03f-4e3d-bc91-1a2480ab5795"
      },
      "source": [
        "y_pred=lr.predict(X_test)\n",
        "y_pred"
      ],
      "execution_count": 21,
      "outputs": [
        {
          "output_type": "execute_result",
          "data": {
            "text/plain": [
              "array([[0.62359872],\n",
              "       [0.87104234],\n",
              "       [0.86152527],\n",
              "       [0.55697929],\n",
              "       [0.64263285],\n",
              "       [0.44277454],\n",
              "       [0.81393996],\n",
              "       [0.55697929],\n",
              "       [0.76635465],\n",
              "       [0.84249115],\n",
              "       [0.67118403],\n",
              "       [0.78538878],\n",
              "       [0.69973522],\n",
              "       [0.83297409],\n",
              "       [0.63311578],\n",
              "       [0.61408166],\n",
              "       [0.63311578],\n",
              "       [0.67118403],\n",
              "       [0.56649635],\n",
              "       [0.8044229 ],\n",
              "       [0.78538878],\n",
              "       [0.68070109],\n",
              "       [0.62359872],\n",
              "       [0.81393996],\n",
              "       [0.43325748],\n",
              "       [0.69973522],\n",
              "       [0.71876934],\n",
              "       [0.73780347],\n",
              "       [0.6045646 ],\n",
              "       [0.85200821],\n",
              "       [0.49035985],\n",
              "       [0.5284281 ],\n",
              "       [0.72828641],\n",
              "       [0.49035985],\n",
              "       [0.50939398],\n",
              "       [0.59504754],\n",
              "       [0.69973522],\n",
              "       [0.6045646 ],\n",
              "       [0.69973522],\n",
              "       [0.90911058],\n",
              "       [0.61408166],\n",
              "       [0.40470629],\n",
              "       [0.53794516],\n",
              "       [0.76635465],\n",
              "       [0.67118403],\n",
              "       [0.66166697],\n",
              "       [0.67118403],\n",
              "       [0.58553047],\n",
              "       [0.94717883],\n",
              "       [0.75683759],\n",
              "       [0.71876934],\n",
              "       [0.54746223],\n",
              "       [0.92814471],\n",
              "       [0.87104234],\n",
              "       [0.66166697],\n",
              "       [0.47132573],\n",
              "       [0.50939398],\n",
              "       [0.68070109],\n",
              "       [0.61408166],\n",
              "       [0.6045646 ],\n",
              "       [0.58553047],\n",
              "       [0.65214991],\n",
              "       [0.4522916 ],\n",
              "       [0.55697929],\n",
              "       [0.89959352],\n",
              "       [0.83297409],\n",
              "       [0.56649635],\n",
              "       [0.5284281 ],\n",
              "       [0.82345703],\n",
              "       [0.84249115],\n",
              "       [0.70925228],\n",
              "       [0.69021816],\n",
              "       [0.49987692],\n",
              "       [0.63311578],\n",
              "       [0.78538878],\n",
              "       [0.69973522],\n",
              "       [0.62359872],\n",
              "       [0.69021816],\n",
              "       [0.59504754],\n",
              "       [0.86152527],\n",
              "       [0.65214991],\n",
              "       [0.59504754],\n",
              "       [0.84249115],\n",
              "       [0.57601341],\n",
              "       [0.67118403],\n",
              "       [0.77587172],\n",
              "       [0.58553047],\n",
              "       [0.89959352],\n",
              "       [0.74732053],\n",
              "       [0.51891104],\n",
              "       [0.82345703],\n",
              "       [0.53794516],\n",
              "       [0.48084279],\n",
              "       [0.83297409],\n",
              "       [0.83297409],\n",
              "       [0.66166697],\n",
              "       [0.78538878],\n",
              "       [0.55697929],\n",
              "       [0.58553047],\n",
              "       [0.71876934],\n",
              "       [0.70925228],\n",
              "       [0.70925228],\n",
              "       [0.97573002],\n",
              "       [0.67118403],\n",
              "       [0.39518923],\n",
              "       [0.76635465],\n",
              "       [0.59504754],\n",
              "       [0.56649635],\n",
              "       [0.82345703],\n",
              "       [0.89007646],\n",
              "       [0.57601341],\n",
              "       [0.65214991],\n",
              "       [0.4522916 ],\n",
              "       [0.69973522],\n",
              "       [0.51891104],\n",
              "       [0.72828641],\n",
              "       [0.50939398],\n",
              "       [0.81393996],\n",
              "       [0.75683759],\n",
              "       [0.83297409],\n",
              "       [0.76635465],\n",
              "       [0.9566959 ],\n",
              "       [0.89007646],\n",
              "       [0.73780347],\n",
              "       [0.73780347],\n",
              "       [0.73780347],\n",
              "       [0.6045646 ],\n",
              "       [0.42374042],\n",
              "       [0.5284281 ],\n",
              "       [0.66166697],\n",
              "       [0.44277454],\n",
              "       [0.73780347],\n",
              "       [0.65214991],\n",
              "       [0.47132573],\n",
              "       [0.58553047],\n",
              "       [0.67118403],\n",
              "       [0.58553047],\n",
              "       [0.69021816],\n",
              "       [0.72828641],\n",
              "       [0.70925228],\n",
              "       [0.78538878],\n",
              "       [0.79490584],\n",
              "       [0.69973522],\n",
              "       [0.58553047],\n",
              "       [0.69021816],\n",
              "       [0.76635465],\n",
              "       [0.69021816],\n",
              "       [0.56649635],\n",
              "       [0.69021816],\n",
              "       [0.65214991],\n",
              "       [0.69021816],\n",
              "       [0.53794516],\n",
              "       [0.81393996],\n",
              "       [0.75683759],\n",
              "       [0.76635465],\n",
              "       [0.58553047],\n",
              "       [0.85200821],\n",
              "       [0.50939398],\n",
              "       [0.8044229 ],\n",
              "       [0.74732053],\n",
              "       [0.66166697],\n",
              "       [0.56649635],\n",
              "       [0.91862765],\n",
              "       [0.54746223],\n",
              "       [0.81393996],\n",
              "       [0.69973522],\n",
              "       [0.61408166],\n",
              "       [0.75683759],\n",
              "       [0.8044229 ],\n",
              "       [0.89007646],\n",
              "       [0.49987692],\n",
              "       [0.89007646],\n",
              "       [0.54746223],\n",
              "       [0.75683759],\n",
              "       [0.63311578],\n",
              "       [0.38567217],\n",
              "       [0.79490584],\n",
              "       [0.57601341],\n",
              "       [0.78538878],\n",
              "       [0.44277454],\n",
              "       [0.68070109],\n",
              "       [0.74732053],\n",
              "       [0.8044229 ],\n",
              "       [0.97573002],\n",
              "       [0.56649635],\n",
              "       [0.5284281 ],\n",
              "       [0.65214991],\n",
              "       [0.82345703],\n",
              "       [0.53794516],\n",
              "       [0.8044229 ],\n",
              "       [0.54746223],\n",
              "       [0.4522916 ],\n",
              "       [0.75683759],\n",
              "       [0.76635465],\n",
              "       [0.72828641],\n",
              "       [0.61408166],\n",
              "       [0.85200821],\n",
              "       [0.77587172],\n",
              "       [0.50939398],\n",
              "       [0.69021816],\n",
              "       [0.5284281 ],\n",
              "       [0.76635465],\n",
              "       [0.72828641],\n",
              "       [0.54746223],\n",
              "       [0.51891104],\n",
              "       [0.85200821],\n",
              "       [0.66166697],\n",
              "       [0.69021816],\n",
              "       [0.69973522],\n",
              "       [0.71876934],\n",
              "       [0.40470629],\n",
              "       [0.69973522],\n",
              "       [0.89959352],\n",
              "       [0.90911058],\n",
              "       [0.61408166],\n",
              "       [0.69021816],\n",
              "       [0.66166697],\n",
              "       [0.67118403],\n",
              "       [0.81393996],\n",
              "       [0.82345703],\n",
              "       [0.4522916 ],\n",
              "       [0.71876934],\n",
              "       [0.70925228],\n",
              "       [0.76635465],\n",
              "       [0.41422336],\n",
              "       [0.46180867],\n",
              "       [0.48084279],\n",
              "       [0.56649635],\n",
              "       [0.62359872],\n",
              "       [0.53794516],\n",
              "       [0.66166697],\n",
              "       [0.46180867],\n",
              "       [0.6045646 ],\n",
              "       [0.76635465],\n",
              "       [0.69973522],\n",
              "       [0.38567217],\n",
              "       [0.61408166],\n",
              "       [0.58553047],\n",
              "       [0.68070109],\n",
              "       [0.74732053],\n",
              "       [0.68070109],\n",
              "       [0.72828641],\n",
              "       [0.5284281 ],\n",
              "       [0.69021816],\n",
              "       [0.74732053],\n",
              "       [0.82345703],\n",
              "       [0.77587172],\n",
              "       [0.55697929],\n",
              "       [0.75683759],\n",
              "       [0.76635465],\n",
              "       [0.85200821],\n",
              "       [0.74732053],\n",
              "       [0.70925228],\n",
              "       [0.79490584],\n",
              "       [0.67118403],\n",
              "       [0.77587172],\n",
              "       [0.62359872],\n",
              "       [0.50939398],\n",
              "       [0.8805594 ],\n",
              "       [0.58553047],\n",
              "       [0.68070109],\n",
              "       [0.51891104],\n",
              "       [0.97573002],\n",
              "       [0.87104234],\n",
              "       [0.69021816],\n",
              "       [0.56649635],\n",
              "       [0.65214991],\n",
              "       [0.56649635],\n",
              "       [0.90911058],\n",
              "       [0.72828641],\n",
              "       [0.71876934],\n",
              "       [0.57601341],\n",
              "       [0.61408166],\n",
              "       [0.83297409],\n",
              "       [0.76635465],\n",
              "       [0.57601341],\n",
              "       [0.67118403],\n",
              "       [0.40470629],\n",
              "       [0.54746223],\n",
              "       [0.86152527],\n",
              "       [0.71876934],\n",
              "       [0.69973522],\n",
              "       [0.8044229 ],\n",
              "       [0.69021816],\n",
              "       [0.56649635],\n",
              "       [0.63311578],\n",
              "       [0.50939398],\n",
              "       [0.81393996],\n",
              "       [0.74732053],\n",
              "       [0.63311578],\n",
              "       [0.69973522],\n",
              "       [0.76635465],\n",
              "       [0.76635465],\n",
              "       [0.97573002],\n",
              "       [0.86152527],\n",
              "       [0.49035985],\n",
              "       [0.59504754],\n",
              "       [0.82345703],\n",
              "       [0.61408166],\n",
              "       [0.64263285]])"
            ]
          },
          "metadata": {
            "tags": []
          },
          "execution_count": 21
        }
      ]
    },
    {
      "cell_type": "code",
      "metadata": {
        "colab": {
          "base_uri": "https://localhost:8080/"
        },
        "id": "TQlvS3onfFq9",
        "outputId": "f941e930-b6a0-4fc5-a137-cfa4f4b4f256"
      },
      "source": [
        "r2_score(Y_test,y_pred)"
      ],
      "execution_count": 26,
      "outputs": [
        {
          "output_type": "execute_result",
          "data": {
            "text/plain": [
              "0.8926795578641096"
            ]
          },
          "metadata": {
            "tags": []
          },
          "execution_count": 26
        }
      ]
    }
  ]
}